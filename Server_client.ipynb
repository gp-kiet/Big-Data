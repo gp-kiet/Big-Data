{
  "nbformat": 4,
  "nbformat_minor": 0,
  "metadata": {
    "colab": {
      "provenance": [],
      "authorship_tag": "ABX9TyOikAjD48qPlZyPIFd5ACou",
      "include_colab_link": true
    },
    "kernelspec": {
      "name": "python3",
      "display_name": "Python 3"
    },
    "language_info": {
      "name": "python"
    }
  },
  "cells": [
    {
      "cell_type": "markdown",
      "metadata": {
        "id": "view-in-github",
        "colab_type": "text"
      },
      "source": [
        "<a href=\"https://colab.research.google.com/github/gp-kiet/Big-Data/blob/main/Server_client.ipynb\" target=\"_parent\"><img src=\"https://colab.research.google.com/assets/colab-badge.svg\" alt=\"Open In Colab\"/></a>"
      ]
    },
    {
      "cell_type": "code",
      "source": [
        "#Server Code\n",
        "from pyngrok import ngrok\n",
        "ngrok.kill()\n",
        "print(\"All ngrok tunnels should be closed.\")"
      ],
      "metadata": {
        "id": "FK4TnESv6jTe"
      },
      "execution_count": null,
      "outputs": []
    },
    {
      "cell_type": "code",
      "source": [
        "# Install Flask and pyngrok if not already installed\n",
        "!pip install Flask pyngrok\n",
        "\n",
        "from flask import Flask, request, jsonify\n",
        "from pyngrok import ngrok\n",
        "\n",
        "app = Flask(__name__)\n",
        "\n",
        "@app.route('/ping', methods=['GET'])\n",
        "def ping():\n",
        "    client_ip = request.remote_addr\n",
        "    return jsonify({\"message\": f\"Pong from the server! Client IP: {client_ip}\"})\n",
        "\n",
        "if __name__ == '__main__':\n",
        "    # Terminate any existing ngrok tunnels\n",
        "    ngrok.kill()\n",
        "\n",
        "    # Open a public HTTP tunnel on port 5000 (default Flask port)\n",
        "    try:\n",
        "        public_url = ngrok.connect(addr=\"5000\", proto=\"http\")\n",
        "        print(f\"Public URL for Flask app: {public_url}\")\n",
        "\n",
        "        # Run the Flask app on port 5000\n",
        "        app.run(host='0.0.0.0', port=5000, debug=False) # Set debug to False for production-like behavior\n",
        "    except Exception as e:\n",
        "        print(f\"An error occurred while connecting ngrok: {e}\")"
      ],
      "metadata": {
        "id": "lt3e3e7n6lpa"
      },
      "execution_count": null,
      "outputs": []
    },
    {
      "cell_type": "code",
      "source": [],
      "metadata": {
        "id": "ukDogH9X6ol_"
      },
      "execution_count": null,
      "outputs": []
    },
    {
      "cell_type": "code",
      "source": [
        "#clinet Code\n",
        "import requests\n",
        "import time\n",
        "\n",
        "# Replace with the actual ngrok public URL you see in the output of the server Colab environment\n",
        "server_url = \"https://04ab-34-134-20-135.ngrok-free.app/ping\"\n",
        "\n",
        "try:\n",
        "    response = requests.get(server_url)\n",
        "    response.raise_for_status()  # Raise an exception for bad status codes (4xx or 5xx)\n",
        "    data = response.json()\n",
        "    print(f\"Received from server: {data}\")\n",
        "except requests.exceptions.RequestException as e:\n",
        "    print(f\"Error connecting to server: {e}\")\n",
        "\n",
        "#You can add a loop to \"ping\" periodically if needed\n",
        "while True:\n",
        "    try:\n",
        "        response = requests.get(server_url)\n",
        "        response.raise_for_status()\n",
        "        data = response.json()\n",
        "        print(f\"Received at {time.strftime('%Y-%m-%d %H:%M:%S')}: {data}\")\n",
        "    except requests.exceptions.RequestException as e:\n",
        "        print(f\"Error at {time.strftime('%Y-%m-%d %H:%M:%S')}: {e}\")\n",
        "    time.sleep(5) # Wait for 5 seconds before the next ping"
      ],
      "metadata": {
        "colab": {
          "base_uri": "https://localhost:8080/",
          "height": 384
        },
        "id": "JIYUYfiW0PdI",
        "outputId": "e794991e-d0d1-4cd9-e47d-c433a65998a8"
      },
      "execution_count": 8,
      "outputs": [
        {
          "output_type": "stream",
          "name": "stdout",
          "text": [
            "Received from server: {'message': 'Pong from the server! Client IP: 127.0.0.1'}\n",
            "Received at 2025-04-22 19:11:01: {'message': 'Pong from the server! Client IP: 127.0.0.1'}\n",
            "Received at 2025-04-22 19:11:06: {'message': 'Pong from the server! Client IP: 127.0.0.1'}\n",
            "Received at 2025-04-22 19:11:12: {'message': 'Pong from the server! Client IP: 127.0.0.1'}\n",
            "Received at 2025-04-22 19:11:17: {'message': 'Pong from the server! Client IP: 127.0.0.1'}\n",
            "Received at 2025-04-22 19:11:22: {'message': 'Pong from the server! Client IP: 127.0.0.1'}\n",
            "Received at 2025-04-22 19:11:27: {'message': 'Pong from the server! Client IP: 127.0.0.1'}\n",
            "Received at 2025-04-22 19:11:33: {'message': 'Pong from the server! Client IP: 127.0.0.1'}\n",
            "Received at 2025-04-22 19:11:38: {'message': 'Pong from the server! Client IP: 127.0.0.1'}\n",
            "Received at 2025-04-22 19:11:43: {'message': 'Pong from the server! Client IP: 127.0.0.1'}\n",
            "Received at 2025-04-22 19:11:48: {'message': 'Pong from the server! Client IP: 127.0.0.1'}\n",
            "Error at 2025-04-22 19:11:53: 404 Client Error: Not Found for url: https://04ab-34-134-20-135.ngrok-free.app/ping\n"
          ]
        },
        {
          "output_type": "error",
          "ename": "KeyboardInterrupt",
          "evalue": "",
          "traceback": [
            "\u001b[0;31m---------------------------------------------------------------------------\u001b[0m",
            "\u001b[0;31mKeyboardInterrupt\u001b[0m                         Traceback (most recent call last)",
            "\u001b[0;32m<ipython-input-8-be7828893ccd>\u001b[0m in \u001b[0;36m<cell line: 0>\u001b[0;34m()\u001b[0m\n\u001b[1;32m     22\u001b[0m     \u001b[0;32mexcept\u001b[0m \u001b[0mrequests\u001b[0m\u001b[0;34m.\u001b[0m\u001b[0mexceptions\u001b[0m\u001b[0;34m.\u001b[0m\u001b[0mRequestException\u001b[0m \u001b[0;32mas\u001b[0m \u001b[0me\u001b[0m\u001b[0;34m:\u001b[0m\u001b[0;34m\u001b[0m\u001b[0;34m\u001b[0m\u001b[0m\n\u001b[1;32m     23\u001b[0m         \u001b[0mprint\u001b[0m\u001b[0;34m(\u001b[0m\u001b[0;34mf\"Error at {time.strftime('%Y-%m-%d %H:%M:%S')}: {e}\"\u001b[0m\u001b[0;34m)\u001b[0m\u001b[0;34m\u001b[0m\u001b[0;34m\u001b[0m\u001b[0m\n\u001b[0;32m---> 24\u001b[0;31m     \u001b[0mtime\u001b[0m\u001b[0;34m.\u001b[0m\u001b[0msleep\u001b[0m\u001b[0;34m(\u001b[0m\u001b[0;36m5\u001b[0m\u001b[0;34m)\u001b[0m \u001b[0;31m# Wait for 5 seconds before the next ping\u001b[0m\u001b[0;34m\u001b[0m\u001b[0;34m\u001b[0m\u001b[0m\n\u001b[0m",
            "\u001b[0;31mKeyboardInterrupt\u001b[0m: "
          ]
        }
      ]
    },
    {
      "cell_type": "code",
      "execution_count": null,
      "metadata": {
        "id": "LOZVSzeF0K1g"
      },
      "outputs": [],
      "source": []
    }
  ]
}